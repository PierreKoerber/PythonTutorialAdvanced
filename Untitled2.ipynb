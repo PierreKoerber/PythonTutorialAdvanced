{
 "cells": [
  {
   "cell_type": "code",
   "execution_count": 20,
   "id": "2f429297-d3a2-42bc-9dff-fc77330c627e",
   "metadata": {},
   "outputs": [
    {
     "name": "stdout",
     "output_type": "stream",
     "text": [
      "['le', 'chat', 'le', 'chat', 'le', 'chat', 'chat', 'chat']\n",
      "{'le': 3, 'chat': 5}\n"
     ]
    },
    {
     "ename": "AttributeError",
     "evalue": "'dict' object has no attribute 'sorted'",
     "output_type": "error",
     "traceback": [
      "\u001b[31m---------------------------------------------------------------------------\u001b[39m",
      "\u001b[31mAttributeError\u001b[39m                            Traceback (most recent call last)",
      "\u001b[36mCell\u001b[39m\u001b[36m \u001b[39m\u001b[32mIn[20]\u001b[39m\u001b[32m, line 16\u001b[39m\n\u001b[32m     12\u001b[39m     res[m] = cpt\n\u001b[32m     14\u001b[39m \u001b[38;5;28mprint\u001b[39m(res)\n\u001b[32m---> \u001b[39m\u001b[32m16\u001b[39m \u001b[38;5;28mprint\u001b[39m(\u001b[43mres\u001b[49m\u001b[43m.\u001b[49m\u001b[43msorted\u001b[49m())\n",
      "\u001b[31mAttributeError\u001b[39m: 'dict' object has no attribute 'sorted'"
     ]
    }
   ],
   "source": [
    "\n",
    "phrase = \"le chat le chat le chat chat chat\"\n",
    "\n",
    "\n",
    "liste_mots = phrase.split(\" \")\n",
    "\n",
    "print(liste_mots)\n",
    "\n",
    "res = {}\n",
    "for m in liste_mots:\n",
    "    cpt = res.get(m,0)\n",
    "    cpt += 1\n",
    "    res[m] = cpt\n",
    "\n",
    "print(res)\n",
    "\n",
    "\n"
   ]
  },
  {
   "cell_type": "code",
   "execution_count": null,
   "id": "28d5c0b0-9db2-43e3-9e21-47e151359f56",
   "metadata": {},
   "outputs": [],
   "source": []
  },
  {
   "cell_type": "code",
   "execution_count": null,
   "id": "3d7672be-f157-4524-8294-437323592ef6",
   "metadata": {},
   "outputs": [],
   "source": []
  },
  {
   "cell_type": "code",
   "execution_count": null,
   "id": "3869e414-8e73-4c2c-ab0b-dab8bbbee97a",
   "metadata": {},
   "outputs": [],
   "source": []
  },
  {
   "cell_type": "code",
   "execution_count": null,
   "id": "59fe3ce5-6e36-4e66-92cc-4e368c66be22",
   "metadata": {},
   "outputs": [],
   "source": []
  },
  {
   "cell_type": "code",
   "execution_count": null,
   "id": "62d5b55a-230e-4ab9-90e3-94fc66880e13",
   "metadata": {},
   "outputs": [],
   "source": []
  },
  {
   "cell_type": "code",
   "execution_count": null,
   "id": "61daa8f7-513c-4b56-aa57-d690126a2995",
   "metadata": {},
   "outputs": [],
   "source": []
  },
  {
   "cell_type": "code",
   "execution_count": null,
   "id": "61dac363-02e1-40a0-b96b-e7af30a1d81c",
   "metadata": {},
   "outputs": [],
   "source": []
  },
  {
   "cell_type": "code",
   "execution_count": null,
   "id": "3bda2b9d-f8f7-4d7e-a682-7e98040a6c52",
   "metadata": {},
   "outputs": [],
   "source": []
  },
  {
   "cell_type": "code",
   "execution_count": 18,
   "id": "31dfc97f-6dee-449d-aa89-69c6b6708959",
   "metadata": {},
   "outputs": [
    {
     "name": "stdout",
     "output_type": "stream",
     "text": [
      "['SO', 'N', 'SAISON\\n\\na\\nBASKETBALL', '2025', '-', '2026\\n\\nCOUPON-REPONSE', 'A', 'RETOURNER\\n\\nChers', '/chères', 'joueurs', '(ses),\\n\\nSi', 'tu', 'souhaites', 'continuer', 'le', 'basket', 'dans', 'notre', 'club,', 'nous', 'te', 'demandons', 'de', 'remplir', 'et\\nretourner', 'ce', 'coupon.', 'Nous', 'reprendrons', 'contact', 'avec', 'toi', 'pour', 'le', 'début', 'de', 'la', 'saison.\\n\\nJE', 'SOUHAITE', 'JOUER', 'DANS', 'UNE', 'E', 'UIPE', 'DE', 'SION', 'BASKET', 'DURANT', 'LA', 'SAISON', '2025-2026\\n\\nNON\\nNom', '7', 'Énsssrenesere', 'Prénom', ':', 'le', 'Date', 'de', 'naissance', ':', 'QL.O0d.', '07\\nAdresse', 'LE.', 'che.', 'EX', 'A', 'NPA/Lieu', ':', 'MAH', 'Pas:', 'lex\\nTéléphone', 'Tuteur', '1', ':', '228.', '72', '964', 'Téléphone', 'Tuteur', '2:', 'RD', 'QUE.', 'Ag', 'LA\\nTél', 'joueur', ':', '212...', '.4uy..', '\"', '49', '.\\nAdresse', 'mail', 'sm', 'N77-', 'FR', 'roll', 're', 'Adresse', 'mail', '2:', 'SA.', 'no\\n\\nAdresse', 'mail', 'joueur:\\n\\nNuméro', 'AVS', ':.', 'ÀS(.4.', '1524:', 'SG60:', 'U]\\n\\nSignature', 'du', 'représentant', 'légal', ':', 'D', '7/74', 'A\\n\\nMerci', 'et', 'à', 'bientôt', '!\\n\\nLa', 'direction', 'technique']\n"
     ]
    }
   ],
   "source": [
    "\n",
    "\n",
    "filename = \"/home/pierre/import/txt/03b8f7c5006e376962b056f386b3ae93.txt\"\n",
    "\n",
    "def readtext(filename):\n",
    "    with open(filename,\"r\") as f:\n",
    "        return f.read()\n",
    "\n",
    "text = readtext(filename)\n",
    "text = text.strip() \n",
    "x = text.split(\" \")\n",
    "\n",
    "print(x)\n"
   ]
  },
  {
   "cell_type": "code",
   "execution_count": null,
   "id": "5c98d901-0ab5-4645-ac03-52945f149600",
   "metadata": {},
   "outputs": [],
   "source": []
  },
  {
   "cell_type": "code",
   "execution_count": null,
   "id": "4d138b16-3700-45a0-9738-6205e21d86c6",
   "metadata": {},
   "outputs": [],
   "source": []
  },
  {
   "cell_type": "code",
   "execution_count": null,
   "id": "a29fd652-8e50-4fa8-b50c-0151ec532fbf",
   "metadata": {},
   "outputs": [],
   "source": []
  },
  {
   "cell_type": "code",
   "execution_count": null,
   "id": "b172f920-3473-4246-8c6e-60a85292dad8",
   "metadata": {},
   "outputs": [],
   "source": []
  },
  {
   "cell_type": "code",
   "execution_count": null,
   "id": "358282cc-2936-4851-9b76-53b56dc4d07e",
   "metadata": {},
   "outputs": [],
   "source": []
  },
  {
   "cell_type": "code",
   "execution_count": null,
   "id": "6898313e-7bd7-4fc0-b364-00625039f82d",
   "metadata": {},
   "outputs": [],
   "source": []
  },
  {
   "cell_type": "code",
   "execution_count": null,
   "id": "d8d7380e-1ab4-4a83-8e5d-58fea34b0513",
   "metadata": {},
   "outputs": [],
   "source": []
  },
  {
   "cell_type": "code",
   "execution_count": null,
   "id": "b480521d-f123-4b1e-ba7e-d48559e960cd",
   "metadata": {},
   "outputs": [],
   "source": []
  },
  {
   "cell_type": "code",
   "execution_count": 4,
   "id": "c9943ae7-093c-4836-ac00-940b30270214",
   "metadata": {},
   "outputs": [
    {
     "name": "stdout",
     "output_type": "stream",
     "text": [
      "{'le': 3, 'chat': 3}\n"
     ]
    }
   ],
   "source": []
  },
  {
   "cell_type": "code",
   "execution_count": null,
   "id": "73b64e49-35e0-4b75-a0a6-8ef1e1eea696",
   "metadata": {},
   "outputs": [],
   "source": []
  },
  {
   "cell_type": "code",
   "execution_count": null,
   "id": "7cd491d4-fb28-4bfd-8e20-5bb2e1e3ef9d",
   "metadata": {},
   "outputs": [],
   "source": []
  }
 ],
 "metadata": {
  "kernelspec": {
   "display_name": "Python 3 (ipykernel)",
   "language": "python",
   "name": "python3"
  },
  "language_info": {
   "codemirror_mode": {
    "name": "ipython",
    "version": 3
   },
   "file_extension": ".py",
   "mimetype": "text/x-python",
   "name": "python",
   "nbconvert_exporter": "python",
   "pygments_lexer": "ipython3",
   "version": "3.12.3"
  }
 },
 "nbformat": 4,
 "nbformat_minor": 5
}
