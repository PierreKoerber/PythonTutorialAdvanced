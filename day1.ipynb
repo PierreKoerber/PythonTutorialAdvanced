{
 "cells": [
  {
   "cell_type": "code",
   "execution_count": null,
   "id": "d6ac1026-c09c-4c0d-9764-810d53ccd8c5",
   "metadata": {},
   "outputs": [],
   "source": [
    "# 1) Les objets fondamentaux en Python"
   ]
  },
  {
   "cell_type": "code",
   "execution_count": 2,
   "id": "b6cdd202-12d5-4059-9f59-0a9a3b5116c9",
   "metadata": {},
   "outputs": [],
   "source": [
    "## Chaine de caractère"
   ]
  },
  {
   "cell_type": "code",
   "execution_count": 56,
   "id": "12724393-48dd-45e8-93c4-da64296544ca",
   "metadata": {},
   "outputs": [
    {
     "name": "stdout",
     "output_type": "stream",
     "text": [
      "pierre koerber2\n",
      "je m'appelle pierre koerber2\n"
     ]
    }
   ],
   "source": [
    "name = \"pierre koerber2\"\n",
    "print(name)\n",
    "print(f\"je m'appelle {name}\")"
   ]
  },
  {
   "cell_type": "code",
   "execution_count": null,
   "id": "750e592e-39d9-4b53-9941-6f58349916bd",
   "metadata": {},
   "outputs": [],
   "source": [
    "## List"
   ]
  },
  {
   "cell_type": "code",
   "execution_count": null,
   "id": "83f7b3c5-be7a-4b04-b35b-4f2b63384b92",
   "metadata": {},
   "outputs": [],
   "source": [
    "liste_nombre = [1,2,3,4,5]"
   ]
  },
  {
   "cell_type": "code",
   "execution_count": null,
   "id": "f47a8d9a-3a41-47fd-9b00-fb9afa1da51b",
   "metadata": {},
   "outputs": [],
   "source": [
    "## Tuple"
   ]
  },
  {
   "cell_type": "code",
   "execution_count": null,
   "id": "4f3bfc8b-c41b-4ae1-9d1c-ea40ba4f148c",
   "metadata": {},
   "outputs": [],
   "source": [
    "my_tuple = (1,2,3,4,5)"
   ]
  },
  {
   "cell_type": "code",
   "execution_count": null,
   "id": "7df9f0ac-0561-476a-80ea-16627e32f2fb",
   "metadata": {},
   "outputs": [],
   "source": [
    "## Dic"
   ]
  },
  {
   "cell_type": "code",
   "execution_count": 5,
   "id": "e5c575e1-3e65-4a4a-aa67-19a43c7381e7",
   "metadata": {},
   "outputs": [
    {
     "name": "stdout",
     "output_type": "stream",
     "text": [
      "koerberpierre\n"
     ]
    }
   ],
   "source": [
    "personne = {\"nom\":\"koerber\",\"prenom\":\"pierre\", \"age\":55}\n",
    "print(personne[\"nom\"] + personne[\"prenom\"])"
   ]
  },
  {
   "cell_type": "code",
   "execution_count": 8,
   "id": "5346d6a4-64bd-4dca-997c-785d93b15929",
   "metadata": {},
   "outputs": [
    {
     "name": "stdout",
     "output_type": "stream",
     "text": [
      "Nom: koerber, Âge: 55\n"
     ]
    }
   ],
   "source": [
    "print(\"Nom: {nom}, Âge: {age}\".format(**personne))"
   ]
  },
  {
   "cell_type": "code",
   "execution_count": null,
   "id": "fbfbc55a-d89f-4b9d-961c-e9c8b5746715",
   "metadata": {},
   "outputs": [],
   "source": [
    "## Set"
   ]
  },
  {
   "cell_type": "code",
   "execution_count": 4,
   "id": "6849e8de-8974-4b99-ad5f-d7b7afb1552e",
   "metadata": {},
   "outputs": [
    {
     "name": "stdout",
     "output_type": "stream",
     "text": [
      "{1, 2, 4}\n"
     ]
    }
   ],
   "source": [
    "myset = {1,2,2,4}\n",
    "print(myset)"
   ]
  },
  {
   "cell_type": "code",
   "execution_count": null,
   "id": "f3774099-4680-424c-8d0e-9053852f6e00",
   "metadata": {},
   "outputs": [],
   "source": [
    "# Chaine de caractères"
   ]
  },
  {
   "cell_type": "code",
   "execution_count": 9,
   "id": "f095daf4-bde9-413e-981c-5b8f93674f92",
   "metadata": {},
   "outputs": [
    {
     "name": "stdout",
     "output_type": "stream",
     "text": [
      "salut les gars\n",
      "SALUT LES GARS\n",
      "Salut les gars\n"
     ]
    }
   ],
   "source": [
    "titre = \"salut les gars\"\n",
    "print(titre.lower())\n",
    "print(titre.upper())\n",
    "print(titre.capitalize())"
   ]
  },
  {
   "cell_type": "code",
   "execution_count": 14,
   "id": "4a9387a3-4bb8-42a0-817b-4be3996042ee",
   "metadata": {},
   "outputs": [
    {
     "name": "stdout",
     "output_type": "stream",
     "text": [
      "  salut les amis    comment ça va ****   \n"
     ]
    }
   ],
   "source": [
    "chaine = \"  salut les amis    comment ça va ****   \"\n",
    "print(chaine)"
   ]
  },
  {
   "cell_type": "code",
   "execution_count": null,
   "id": "8d553fb7-0c33-451e-bc69-098503e5eda9",
   "metadata": {},
   "outputs": [],
   "source": [
    "# Supprime les caratères au début et à la fin"
   ]
  },
  {
   "cell_type": "code",
   "execution_count": 15,
   "id": "ccf67ba0-f878-4bb8-b254-a1dfc00a7d9e",
   "metadata": {},
   "outputs": [
    {
     "name": "stdout",
     "output_type": "stream",
     "text": [
      "salut les amis    comment ça va ****\n"
     ]
    }
   ],
   "source": [
    "print(chaine.strip())"
   ]
  },
  {
   "cell_type": "code",
   "execution_count": 16,
   "id": "0381928c-009c-4f0b-8f4c-8b952e468dbf",
   "metadata": {},
   "outputs": [
    {
     "name": "stdout",
     "output_type": "stream",
     "text": [
      "['', '', 'salut', 'les', 'amis', '', '', '', 'comment', 'ça', 'va', '****', '', '', '']\n"
     ]
    }
   ],
   "source": [
    "print(chaine.split(\" \") )"
   ]
  },
  {
   "cell_type": "code",
   "execution_count": 18,
   "id": "879d1881-7ba6-4186-946a-e942c2a24e35",
   "metadata": {},
   "outputs": [
    {
     "name": "stdout",
     "output_type": "stream",
     "text": [
      "['pomme', ' banane', ' poire', ' ananas']\n"
     ]
    }
   ],
   "source": [
    "liste = \"pomme, banane, poire, ananas\"\n",
    "print(liste.split(\",\"))"
   ]
  },
  {
   "cell_type": "code",
   "execution_count": null,
   "id": "9c7c028a-b27d-47df-a23a-6b4ed45c7451",
   "metadata": {},
   "outputs": [],
   "source": [
    "# exemple de nettoyage d'une chaine"
   ]
  },
  {
   "cell_type": "code",
   "execution_count": 19,
   "id": "b5142916-90ba-469d-92fd-f33d748f9dd8",
   "metadata": {},
   "outputs": [
    {
     "name": "stdout",
     "output_type": "stream",
     "text": [
      "['pomme', 'banane', 'orange', 'kiwi']\n"
     ]
    }
   ],
   "source": [
    "ligne = \"   pomme;banane;orange;kiwi   \\n\"\n",
    "fruits = ligne.strip().split(\";\")\n",
    "print(fruits)"
   ]
  },
  {
   "cell_type": "code",
   "execution_count": 20,
   "id": "7e6b1fb2-fdce-4d93-89f9-1f5368ef5259",
   "metadata": {},
   "outputs": [
    {
     "name": "stdout",
     "output_type": "stream",
     "text": [
      "41\n"
     ]
    }
   ],
   "source": [
    "# taille des chaines\n",
    "print(len(chaine))"
   ]
  },
  {
   "cell_type": "code",
   "execution_count": null,
   "id": "ebc61458-564a-4c34-9443-7713b606f2df",
   "metadata": {},
   "outputs": [],
   "source": [
    "# replace les élément d'une chaine"
   ]
  },
  {
   "cell_type": "code",
   "execution_count": 21,
   "id": "34862472-8aca-4db2-a802-9d1392f8cf65",
   "metadata": {},
   "outputs": [
    {
     "name": "stdout",
     "output_type": "stream",
     "text": [
      "  sXlut les Xmis    comment çX vX ****   \n"
     ]
    }
   ],
   "source": [
    "print(chaine.replace(\"a\",\"X\"))"
   ]
  },
  {
   "cell_type": "code",
   "execution_count": null,
   "id": "f8b98186-17c0-423a-a517-8819f31133b2",
   "metadata": {},
   "outputs": [],
   "source": []
  },
  {
   "cell_type": "code",
   "execution_count": null,
   "id": "44fc06e0-c345-40ae-ae0a-594b945313a8",
   "metadata": {},
   "outputs": [],
   "source": [
    "---\n",
    "## LISTE"
   ]
  },
  {
   "cell_type": "code",
   "execution_count": 30,
   "id": "242e73ed-f64f-460b-9849-2b70af833269",
   "metadata": {},
   "outputs": [
    {
     "name": "stdout",
     "output_type": "stream",
     "text": [
      "['pomme', ' banane', ' poire', ' ananas']\n",
      "['superman', ' batman', ' spiderman', ' koerberman']\n"
     ]
    }
   ],
   "source": [
    "liste = \"pomme, banane, poire, ananas\".split(\",\")\n",
    "liste2 = \"superman, batman, spiderman, koerberman\".split(\",\")\n",
    "\n",
    "print(liste)\n",
    "print(liste2)\n"
   ]
  },
  {
   "cell_type": "code",
   "execution_count": 23,
   "id": "384c58d5-cf27-42e7-8ca4-5b4419beed64",
   "metadata": {},
   "outputs": [
    {
     "name": "stdout",
     "output_type": "stream",
     "text": [
      "['pomme', ' banane', ' poire', ' ananas', 'orange']\n"
     ]
    }
   ],
   "source": [
    "liste.append(\"orange\")\n",
    "print(liste)"
   ]
  },
  {
   "cell_type": "code",
   "execution_count": 31,
   "id": "d74bcbbf-dbe4-4ee7-95b3-aaf4fd3ca40d",
   "metadata": {},
   "outputs": [
    {
     "name": "stdout",
     "output_type": "stream",
     "text": [
      "['pomme', ' banane', ' poire', ' ananas', 'superman', ' batman', ' spiderman', ' koerberman']\n"
     ]
    }
   ],
   "source": [
    "liste.extend(liste2)\n",
    "print(liste)\n"
   ]
  },
  {
   "cell_type": "code",
   "execution_count": 35,
   "id": "c07c4343-a6e0-4d31-b00c-351de914a348",
   "metadata": {},
   "outputs": [
    {
     "name": "stdout",
     "output_type": "stream",
     "text": [
      "['pomme', ' banane', ' poire', ' ananas']\n",
      "['superman', ' batman', ' spiderman', ' koerberman']\n",
      "['pomme', ' banane', ' poire', ' ananas', ['superman', ' batman', ' spiderman', ' koerberman']]\n"
     ]
    }
   ],
   "source": [
    "liste = \"pomme, banane, poire, ananas\".split(\",\")\n",
    "liste2 = \"superman, batman, spiderman, koerberman\".split(\",\")\n",
    "\n",
    "print(liste)\n",
    "print(liste2)\n",
    "\n",
    "liste.append(liste2)\n",
    "print(liste)"
   ]
  },
  {
   "cell_type": "code",
   "execution_count": null,
   "id": "f5729035-4df4-4533-b0c1-c061d4de93c8",
   "metadata": {},
   "outputs": [],
   "source": [
    "# remove"
   ]
  },
  {
   "cell_type": "code",
   "execution_count": 41,
   "id": "e3201168-a490-4211-bdf7-4f15a45688a0",
   "metadata": {},
   "outputs": [
    {
     "name": "stdout",
     "output_type": "stream",
     "text": [
      "['pomme', ' banane', ' poire', ' ananas', 'superman', ' batman', ' spiderman', ' koerberman']\n",
      "[' banane', ' poire', ' ananas', 'superman', ' batman', ' spiderman', ' koerberman']\n"
     ]
    }
   ],
   "source": [
    "liste = \"pomme, banane, poire, ananas\".split(\",\")\n",
    "liste2 = \"superman, batman, spiderman, koerberman\".split(\",\")\n",
    "liste.extend(liste2)\n",
    "print(liste)\n",
    "liste.remove(\"pomme\")\n",
    "print(liste)"
   ]
  },
  {
   "cell_type": "code",
   "execution_count": 42,
   "id": "cd271878-362f-4309-949c-ded5f0c15973",
   "metadata": {},
   "outputs": [
    {
     "name": "stdout",
     "output_type": "stream",
     "text": [
      "[' poire', ' ananas', 'superman', ' batman', ' spiderman', ' koerberman']\n"
     ]
    }
   ],
   "source": [
    "liste.pop(0)\n",
    "print(liste)"
   ]
  },
  {
   "cell_type": "code",
   "execution_count": null,
   "id": "fd0ee312-282b-4f77-94fe-4a18844a9194",
   "metadata": {},
   "outputs": [],
   "source": []
  },
  {
   "cell_type": "code",
   "execution_count": 43,
   "id": "c4976821-581b-41c6-ab89-8bab853150f5",
   "metadata": {},
   "outputs": [
    {
     "name": "stdout",
     "output_type": "stream",
     "text": [
      "[' poire', ' ananas', 'superman', ' batman', ' spiderman', ' koerberman']\n",
      "[' poire', ' ananas', ' batman', ' spiderman', ' koerberman']\n"
     ]
    }
   ],
   "source": [
    "print(liste)\n",
    "liste.pop(2)\n",
    "print(liste)"
   ]
  },
  {
   "cell_type": "code",
   "execution_count": 44,
   "id": "8d5903af-de0f-4ca4-b117-c86cbc7ff434",
   "metadata": {},
   "outputs": [
    {
     "name": "stdout",
     "output_type": "stream",
     "text": [
      "[' poire', ' ananas', ' batman', ' spiderman']\n"
     ]
    }
   ],
   "source": [
    "liste.pop(-1)\n",
    "print(liste)"
   ]
  },
  {
   "cell_type": "code",
   "execution_count": 46,
   "id": "343eb3b9-9a9a-444d-b70f-700b1c7d9e28",
   "metadata": {},
   "outputs": [
    {
     "name": "stdout",
     "output_type": "stream",
     "text": [
      "[' ananas', ' banane', ' batman', ' koerberman', ' poire', ' spiderman', 'pomme', 'superman']\n"
     ]
    }
   ],
   "source": [
    "liste = \"pomme, banane, poire, ananas\".split(\",\")\n",
    "liste2 = \"superman, batman, spiderman, koerberman\".split(\",\")\n",
    "liste.extend(liste2)\n",
    "\n",
    "liste.sort()\n",
    "print(liste)"
   ]
  },
  {
   "cell_type": "code",
   "execution_count": 48,
   "id": "e9df7efd-c3e2-4f53-98c5-db9ce068fa4e",
   "metadata": {},
   "outputs": [
    {
     "name": "stdout",
     "output_type": "stream",
     "text": [
      "['ananas', 'banane', 'batman', 'koerberman', 'poire', 'spiderman', 'pomme', 'superman']\n",
      "['ananas', 'banane', 'batman', 'koerberman', 'poire', 'pomme', 'spiderman', 'superman']\n"
     ]
    }
   ],
   "source": [
    "def stripList(myliste):\n",
    "    newliste = []\n",
    "    for x in myliste:\n",
    "        newliste.append(x.strip())\n",
    "    return newliste\n",
    "\n",
    "items = stripList(liste)\n",
    "print(items)\n",
    "\n",
    "items.sort()\n",
    "print(items)"
   ]
  },
  {
   "cell_type": "code",
   "execution_count": null,
   "id": "3a442c3d-ca48-4e64-bbe5-9255e1f62ed6",
   "metadata": {},
   "outputs": [],
   "source": [
    "## dictionnaires"
   ]
  },
  {
   "cell_type": "code",
   "execution_count": 51,
   "id": "d9b106e7-eb89-493d-8a6f-72cca3c2af76",
   "metadata": {},
   "outputs": [
    {
     "name": "stdout",
     "output_type": "stream",
     "text": [
      "dict_keys(['nom', 'prenom', 'age']) dict_values(['koerber', 'andrea', 14]) dict_items([('nom', 'koerber'), ('prenom', 'andrea'), ('age', 14)])\n",
      "2011-08-11\n"
     ]
    }
   ],
   "source": [
    "\n",
    "\n",
    "famille = [\n",
    "    {\"nom\":\"koerber\",\"prenom\":\"pierre\", \"age\":55},\n",
    "    {\"nom\":\"koerber\",\"prenom\":\"rosalie\", \"age\":47},\n",
    "    {\"nom\":\"koerber\",\"prenom\":\"andrea\", \"age\":14},\n",
    "    {\"nom\":\"koerber\",\"prenom\":\"sacha\", \"age\":16}\n",
    "]\n",
    "\n",
    "andrea = famille[2] \n",
    "\n",
    "print(andrea.keys(), andrea.values(), andrea.items())\n",
    "\n",
    "print(andrea.get(\"datenaissance\", \"2011-08-11\"))\n"
   ]
  },
  {
   "cell_type": "code",
   "execution_count": 54,
   "id": "da0bc42d-1182-4a9d-bc34-50d56ecce9e9",
   "metadata": {},
   "outputs": [
    {
     "name": "stdout",
     "output_type": "stream",
     "text": [
      "[{'nom': 'koerber', 'prenom': 'andrea', 'age': 14}, {'nom': 'koerber', 'prenom': 'pierre', 'age': 55}, {'nom': 'koerber', 'prenom': 'rosalie', 'age': 47}, {'nom': 'koerber', 'prenom': 'sacha', 'age': 16}]\n"
     ]
    }
   ],
   "source": [
    "\n",
    "newfamille = sorted(famille, key=lambda x: x['prenom'])\n",
    "print(newfamille)"
   ]
  },
  {
   "cell_type": "code",
   "execution_count": 57,
   "id": "d146d0c0-a2c7-40cd-b558-d5cebbf49ca7",
   "metadata": {},
   "outputs": [
    {
     "name": "stdout",
     "output_type": "stream",
     "text": [
      "[{'nom': 'koerber', 'prenom': 'andrea', 'age': 14}, {'nom': 'koerber', 'prenom': 'sacha', 'age': 16}, {'nom': 'koerber', 'prenom': 'rosalie', 'age': 47}, {'nom': 'koerber', 'prenom': 'pierre', 'age': 55}]\n"
     ]
    }
   ],
   "source": [
    "newfamille = sorted(famille, key=lambda x: x['age'])\n",
    "print(newfamille)"
   ]
  },
  {
   "cell_type": "code",
   "execution_count": null,
   "id": "6a8db952-07dc-4fe9-a551-ca33784d3b69",
   "metadata": {},
   "outputs": [],
   "source": []
  },
  {
   "cell_type": "code",
   "execution_count": 1,
   "id": "e12e1902-d012-4c44-94f8-937319806586",
   "metadata": {},
   "outputs": [
    {
     "name": "stdout",
     "output_type": "stream",
     "text": [
      "[{'nom': 'koerber', 'prenom': 'pierre', 'age': 55}, {'nom': 'koerber', 'prenom': 'rosalie', 'age': 47}, {'nom': 'koerber', 'prenom': 'andrea', 'age': 14}, {'nom': 'koerber', 'prenom': 'sacha', 'age': 16}]\n"
     ]
    }
   ],
   "source": [
    "famille = [\n",
    "    {\"nom\":\"koerber\",\"prenom\":\"pierre\", \"age\":55},\n",
    "    {\"nom\":\"koerber\",\"prenom\":\"rosalie\", \"age\":47},\n",
    "    {\"nom\":\"koerber\",\"prenom\":\"andrea\", \"age\":14},\n",
    "    {\"nom\":\"koerber\",\"prenom\":\"sacha\", \"age\":16}\n",
    "]\n",
    "print(famille)"
   ]
  },
  {
   "cell_type": "code",
   "execution_count": 16,
   "id": "72cf5036-2b66-47fc-9e12-7828301a09a4",
   "metadata": {},
   "outputs": [
    {
     "name": "stdout",
     "output_type": "stream",
     "text": [
      "pierre\n",
      "[{'nom': 'koerber', 'prenom': 'pierre', 'age': 55}, {'nom': 'koerber', 'prenom': 'rosalie', 'age': 47}, {'nom': 'koerber', 'prenom': 'andrea', 'age': 14}, {'nom': 'koerber', 'prenom': 'sacha', 'age': 16}]\n"
     ]
    }
   ],
   "source": [
    "def get_nom(personne):\n",
    "    #return personne[\"xprenom\"]\n",
    "    return personne.get(\"prenom\", \"pas trouvé\")\n",
    "\n",
    "\n",
    "print( get_nom(famille[0]) )\n",
    "\n",
    "famille_trie = sorted(famille, key=lambda x: x[\"nom\"])\n",
    "print(famille_trie)"
   ]
  },
  {
   "cell_type": "code",
   "execution_count": 20,
   "id": "7b5549e5-6b51-406e-8e1c-99079c3561ce",
   "metadata": {},
   "outputs": [
    {
     "name": "stdout",
     "output_type": "stream",
     "text": [
      "nom koerber\n",
      "prenom pierre\n",
      "age 55\n"
     ]
    }
   ],
   "source": [
    "x = famille[0].items()\n",
    "for i in x:\n",
    "    print(i[0], i[1])"
   ]
  },
  {
   "cell_type": "code",
   "execution_count": null,
   "id": "3e0cf12f-5b82-494f-8fec-8033b3c9dcaf",
   "metadata": {},
   "outputs": [],
   "source": []
  },
  {
   "cell_type": "code",
   "execution_count": 1,
   "id": "4da4220e-084b-40b6-91e6-c7dbebd3971f",
   "metadata": {},
   "outputs": [
    {
     "name": "stdout",
     "output_type": "stream",
     "text": [
      "test.txt\n",
      "('test', '.txt')\n"
     ]
    }
   ],
   "source": [
    "import os\n",
    "print(os.path.basename(\"/tmp/test.txt\"))   # \"test.txt\"\n",
    "print(os.path.splitext(\"test.txt\"))        # (\"test\", \".txt\")\n",
    "\n"
   ]
  },
  {
   "cell_type": "code",
   "execution_count": 7,
   "id": "49e11b3d-25ca-4006-89e2-0bd700a03374",
   "metadata": {},
   "outputs": [
    {
     "name": "stdout",
     "output_type": "stream",
     "text": [
      "test.txt\n",
      "test\n",
      ".txt\n",
      "/tmp\n",
      "n'existe pas\n"
     ]
    }
   ],
   "source": [
    "from pathlib import Path\n",
    "p = Path(\"/tmp/test.txt\")\n",
    "print(p.name)     # \"test.txt\"\n",
    "print(p.stem)     # \"test\"\n",
    "print(p.suffix)   # \".txt\"\n",
    "print(p.parent)   # \"/tmp\"\n",
    "\n",
    "if p.exists():\n",
    "    print(f\"{p.name} existe\")\n",
    "else:\n",
    "    print(\"n'existe pas\")"
   ]
  },
  {
   "cell_type": "code",
   "execution_count": null,
   "id": "a8f6b6b9-90ca-440f-a494-55c41b37de71",
   "metadata": {},
   "outputs": [],
   "source": [
    "\n",
    "\n",
    "def get_dir(dir, filtre=\"**/*\"):\n",
    "    tempdir = Path(dir)\n",
    "    l = []\n",
    "    for f in Path(dir).rglob(filtre):\n",
    "        l.append(f)\n",
    "    return l\n",
    "\n",
    "def affiche_dir(dir, filtre):\n",
    "    l = get_dir(dir,filtre)\n",
    "    for f in l:\n",
    "        if f.is_dir() == True:\n",
    "            print(f)\n",
    "\n",
    "\n",
    "affiche_dir(\"/data\", \"**/*\")\n",
    "\n"
   ]
  },
  {
   "cell_type": "code",
   "execution_count": 27,
   "id": "2f0486ee-1817-4b8a-a0e8-ade5e62129ce",
   "metadata": {},
   "outputs": [
    {
     "name": "stdout",
     "output_type": "stream",
     "text": [
      "/data/sys.code-workspace\n"
     ]
    }
   ],
   "source": [
    "\n",
    "\n",
    "def get_dir(dir, filtre=\"**/*\"):\n",
    "    tempdir = Path(dir)\n",
    "    l = []\n",
    "    for f in Path(dir).rglob(filtre):\n",
    "        l.append(f)\n",
    "    return l\n",
    "\n",
    "def affiche_dir(dir, filtre, onlydir=True, max=10):\n",
    "    l = get_dir(dir,filtre)\n",
    "    i = 0\n",
    "    for f in l:\n",
    "            print(f)\n",
    "            ++i\n",
    "            if max == 10:\n",
    "                return\n",
    "\n",
    "\n",
    "affiche_dir(\"/data\", \"*.*\", False, 10)\n",
    "\n"
   ]
  },
  {
   "cell_type": "code",
   "execution_count": null,
   "id": "48753b5e-99e9-42e5-a91f-4cb7d9cd3f2b",
   "metadata": {},
   "outputs": [],
   "source": []
  },
  {
   "cell_type": "code",
   "execution_count": null,
   "id": "591d3ab7-b948-4838-8ce6-93079ba0cee1",
   "metadata": {},
   "outputs": [],
   "source": []
  },
  {
   "cell_type": "code",
   "execution_count": null,
   "id": "c1c89ac0-373f-4802-89b1-4feabd7c4650",
   "metadata": {},
   "outputs": [],
   "source": []
  },
  {
   "cell_type": "code",
   "execution_count": null,
   "id": "f08f79be-fd54-4925-ac4b-bfeb8e828d2f",
   "metadata": {},
   "outputs": [],
   "source": []
  },
  {
   "cell_type": "code",
   "execution_count": null,
   "id": "6ca12451-0a50-4535-9130-36bd3cd05a82",
   "metadata": {},
   "outputs": [],
   "source": []
  },
  {
   "cell_type": "code",
   "execution_count": null,
   "id": "792e5e66-0de4-4216-a816-b47e2548e1a8",
   "metadata": {},
   "outputs": [],
   "source": []
  },
  {
   "cell_type": "code",
   "execution_count": null,
   "id": "1837439a-1873-4ae2-8915-b8649bcbad09",
   "metadata": {},
   "outputs": [],
   "source": []
  },
  {
   "cell_type": "code",
   "execution_count": null,
   "id": "0122783f-e771-49bb-afab-69665d3ed775",
   "metadata": {},
   "outputs": [],
   "source": []
  },
  {
   "cell_type": "code",
   "execution_count": null,
   "id": "a79562be-32b7-4cfa-820e-6b72c29e9152",
   "metadata": {},
   "outputs": [],
   "source": []
  },
  {
   "cell_type": "code",
   "execution_count": null,
   "id": "3a6e7a46-eb31-4e9a-a6c3-1af12fed9d2d",
   "metadata": {},
   "outputs": [],
   "source": []
  },
  {
   "cell_type": "code",
   "execution_count": null,
   "id": "df13f208-c463-4c33-95de-749477b97f5c",
   "metadata": {},
   "outputs": [],
   "source": []
  },
  {
   "cell_type": "code",
   "execution_count": null,
   "id": "200cd3bb-0d2b-4c46-8099-c8447462cc97",
   "metadata": {},
   "outputs": [],
   "source": []
  },
  {
   "cell_type": "code",
   "execution_count": null,
   "id": "9966fcdd-6a23-455e-adb7-81f02a6fc8da",
   "metadata": {},
   "outputs": [],
   "source": []
  },
  {
   "cell_type": "code",
   "execution_count": null,
   "id": "120d7649-53ca-4c96-97d2-07b931e28307",
   "metadata": {},
   "outputs": [],
   "source": []
  },
  {
   "cell_type": "code",
   "execution_count": null,
   "id": "7e3dbc8d-5069-48ae-ab90-962b239f5fd8",
   "metadata": {},
   "outputs": [],
   "source": []
  },
  {
   "cell_type": "code",
   "execution_count": null,
   "id": "d96e3bfe-ae15-4a99-83f5-9a5cf38b55b1",
   "metadata": {},
   "outputs": [],
   "source": []
  },
  {
   "cell_type": "code",
   "execution_count": null,
   "id": "00c6dfee-21a6-4508-b1e5-7c67b664a087",
   "metadata": {},
   "outputs": [],
   "source": []
  },
  {
   "cell_type": "code",
   "execution_count": null,
   "id": "4bff0d09-57db-46f5-a6dd-e3a86461f08b",
   "metadata": {},
   "outputs": [],
   "source": []
  },
  {
   "cell_type": "code",
   "execution_count": null,
   "id": "4b449f18-93f1-4357-ba7e-5b41f368aca5",
   "metadata": {},
   "outputs": [],
   "source": []
  },
  {
   "cell_type": "code",
   "execution_count": null,
   "id": "f714a47b-a106-43f9-b636-e2383fbff2b6",
   "metadata": {},
   "outputs": [],
   "source": []
  },
  {
   "cell_type": "code",
   "execution_count": null,
   "id": "2c127abc-4d7b-4f47-ac90-38cd79a1d332",
   "metadata": {},
   "outputs": [],
   "source": []
  },
  {
   "cell_type": "code",
   "execution_count": null,
   "id": "b870a810-141f-4df4-8a50-212f9d1e124e",
   "metadata": {},
   "outputs": [],
   "source": []
  },
  {
   "cell_type": "code",
   "execution_count": null,
   "id": "eedb4105-4341-41d6-a08e-8820190c9d23",
   "metadata": {},
   "outputs": [],
   "source": []
  },
  {
   "cell_type": "code",
   "execution_count": null,
   "id": "1da75b99-23d8-47f2-ae7a-ae69c97a1946",
   "metadata": {},
   "outputs": [],
   "source": []
  },
  {
   "cell_type": "code",
   "execution_count": null,
   "id": "76344b09-f282-4e37-9644-5348d5c1ef86",
   "metadata": {},
   "outputs": [],
   "source": []
  },
  {
   "cell_type": "code",
   "execution_count": null,
   "id": "602c6913-223c-4689-a86c-81ba8f274e7e",
   "metadata": {},
   "outputs": [],
   "source": []
  },
  {
   "cell_type": "code",
   "execution_count": null,
   "id": "7234fcff-4c2e-44b3-bdec-4dfe4a916fb4",
   "metadata": {},
   "outputs": [],
   "source": []
  },
  {
   "cell_type": "code",
   "execution_count": null,
   "id": "c2b15793-7b32-4310-b572-9dfde66b0152",
   "metadata": {},
   "outputs": [],
   "source": []
  },
  {
   "cell_type": "code",
   "execution_count": null,
   "id": "0170eb9c-8317-45af-b1fe-6d1af3fb843c",
   "metadata": {},
   "outputs": [],
   "source": []
  },
  {
   "cell_type": "code",
   "execution_count": null,
   "id": "1e5e424d-c81c-452b-9f81-0f5955ce3f2c",
   "metadata": {},
   "outputs": [],
   "source": []
  },
  {
   "cell_type": "code",
   "execution_count": null,
   "id": "700f9e59-92f6-495c-8d81-21e88b5c9d99",
   "metadata": {},
   "outputs": [],
   "source": []
  },
  {
   "cell_type": "code",
   "execution_count": null,
   "id": "7a77ba67-00b9-4b12-ac5f-e9aac466cfbb",
   "metadata": {},
   "outputs": [],
   "source": []
  },
  {
   "cell_type": "code",
   "execution_count": null,
   "id": "22d6ec1b-41d4-4cc1-9b82-8b0fdf4b81ec",
   "metadata": {},
   "outputs": [],
   "source": []
  },
  {
   "cell_type": "code",
   "execution_count": null,
   "id": "cf8b5430-f4bf-4226-ba41-677b11a75969",
   "metadata": {},
   "outputs": [],
   "source": []
  },
  {
   "cell_type": "code",
   "execution_count": null,
   "id": "64e7f47b-8390-4230-bd31-ab09a9cff24b",
   "metadata": {},
   "outputs": [],
   "source": []
  },
  {
   "cell_type": "code",
   "execution_count": null,
   "id": "9fef26c4-43ab-4ddc-8b44-282d03125c97",
   "metadata": {},
   "outputs": [],
   "source": []
  },
  {
   "cell_type": "code",
   "execution_count": null,
   "id": "8ce56eb6-5cc2-4154-af55-b9e0affdf41b",
   "metadata": {},
   "outputs": [],
   "source": []
  },
  {
   "cell_type": "code",
   "execution_count": null,
   "id": "eb7762f3-8576-40cf-905c-f7bed25a18f1",
   "metadata": {},
   "outputs": [],
   "source": []
  },
  {
   "cell_type": "code",
   "execution_count": null,
   "id": "8935d740-5fae-4a7e-9514-7506f8fd1797",
   "metadata": {},
   "outputs": [],
   "source": []
  },
  {
   "cell_type": "code",
   "execution_count": null,
   "id": "3603f378-bb1a-4c8b-813c-4e27e751973a",
   "metadata": {},
   "outputs": [],
   "source": []
  },
  {
   "cell_type": "code",
   "execution_count": null,
   "id": "e1485852-2d97-4e5b-9b6d-be80c6def252",
   "metadata": {},
   "outputs": [],
   "source": []
  },
  {
   "cell_type": "code",
   "execution_count": null,
   "id": "d8e9fed7-dbbf-4c43-8be3-c000a1f5a455",
   "metadata": {},
   "outputs": [],
   "source": []
  },
  {
   "cell_type": "code",
   "execution_count": null,
   "id": "49bbbd45-4633-49e7-8254-aebd30f8e8e1",
   "metadata": {},
   "outputs": [],
   "source": []
  },
  {
   "cell_type": "code",
   "execution_count": null,
   "id": "743fc056-e9a2-4e12-85d0-bef3649f48f5",
   "metadata": {},
   "outputs": [],
   "source": []
  },
  {
   "cell_type": "code",
   "execution_count": null,
   "id": "0e7ef87b-685f-43df-be0c-531fe564fe3d",
   "metadata": {},
   "outputs": [],
   "source": []
  },
  {
   "cell_type": "code",
   "execution_count": null,
   "id": "0d84b909-1f69-45c5-be45-b6c4df62f688",
   "metadata": {},
   "outputs": [],
   "source": []
  },
  {
   "cell_type": "code",
   "execution_count": null,
   "id": "92d222fb-a807-4c01-83c9-ea90437f2695",
   "metadata": {},
   "outputs": [],
   "source": []
  },
  {
   "cell_type": "code",
   "execution_count": null,
   "id": "dd0c66a0-b6fe-4bb9-b109-b038b8dc964f",
   "metadata": {},
   "outputs": [],
   "source": []
  },
  {
   "cell_type": "code",
   "execution_count": null,
   "id": "5dbb5329-7b2f-4130-9a5d-abb9c78d8ac2",
   "metadata": {},
   "outputs": [],
   "source": []
  },
  {
   "cell_type": "code",
   "execution_count": null,
   "id": "4018d08c-3c3c-4ef9-9dc3-6fca950b2f96",
   "metadata": {},
   "outputs": [],
   "source": []
  },
  {
   "cell_type": "code",
   "execution_count": null,
   "id": "7af2c5eb-8370-494a-8b79-0117f4fd6243",
   "metadata": {},
   "outputs": [],
   "source": []
  },
  {
   "cell_type": "code",
   "execution_count": null,
   "id": "a4a0d5b0-73f8-4814-8df3-cc5d218c92ca",
   "metadata": {},
   "outputs": [],
   "source": []
  },
  {
   "cell_type": "code",
   "execution_count": null,
   "id": "32c7fb13-789d-4b8c-ba28-3e2879e0ff8a",
   "metadata": {},
   "outputs": [],
   "source": []
  },
  {
   "cell_type": "code",
   "execution_count": null,
   "id": "5fb05df8-a44c-4300-9314-116e9a017a0f",
   "metadata": {},
   "outputs": [],
   "source": []
  }
 ],
 "metadata": {
  "kernelspec": {
   "display_name": "Python 3 (ipykernel)",
   "language": "python",
   "name": "python3"
  },
  "language_info": {
   "codemirror_mode": {
    "name": "ipython",
    "version": 3
   },
   "file_extension": ".py",
   "mimetype": "text/x-python",
   "name": "python",
   "nbconvert_exporter": "python",
   "pygments_lexer": "ipython3",
   "version": "3.12.3"
  }
 },
 "nbformat": 4,
 "nbformat_minor": 5
}
